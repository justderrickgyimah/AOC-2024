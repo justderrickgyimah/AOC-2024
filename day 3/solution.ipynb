{
 "cells": [
  {
   "cell_type": "code",
   "execution_count": 1,
   "metadata": {},
   "outputs": [],
   "source": [
    "with open(\"day_3_data.txt\") as f:\n",
    "    data = f.read().splitlines()"
   ]
  },
  {
   "cell_type": "code",
   "execution_count": null,
   "metadata": {},
   "outputs": [
    {
     "name": "stdout",
     "output_type": "stream",
     "text": [
      "159833790\n"
     ]
    }
   ],
   "source": [
    "import re\n",
    "\n",
    "ms = []\n",
    "regex = r\"^mul\\(\\d{1,3},\\d{1,3}\\)$\"\n",
    "\n",
    "\n",
    "for i,j in enumerate(data):\n",
    "    for x,y in enumerate(data[i]):\n",
    "        if y == \"m\":\n",
    "            for z in range(8,13):\n",
    "                if re.match(regex, j[x:x+z]):\n",
    "                    ms.append(data[i][x:x+z])\n",
    "                \n",
    "            \n",
    "sum = 0\n",
    "multipliers = [ms[i].strip(\"mul(\").strip(\")\").split(\",\") for i in range(len(ms))]\n",
    "\n",
    "for i in range(len(multipliers)):\n",
    "    sum += int(multipliers[i][0]) * int(multipliers[i][1])\n",
    "\n",
    "print(sum)"
   ]
  },
  {
   "cell_type": "code",
   "execution_count": null,
   "metadata": {},
   "outputs": [
    {
     "name": "stdout",
     "output_type": "stream",
     "text": [
      "dont\n",
      "do\n",
      "dont\n",
      "dont\n",
      "dont\n",
      "do\n",
      "do\n",
      "do\n",
      "do\n",
      "do\n",
      "dont\n",
      "do\n",
      "dont\n",
      "dont\n",
      "do\n",
      "do\n",
      "do\n",
      "do\n",
      "do\n",
      "do\n",
      "do\n",
      "do\n",
      "dont\n",
      "dont\n",
      "do\n",
      "dont\n",
      "dont\n",
      "do\n",
      "dont\n",
      "dont\n",
      "dont\n",
      "do\n",
      "dont\n",
      "do\n",
      "dont\n",
      "do\n",
      "dont\n",
      "dont\n",
      "do\n",
      "dont\n",
      "do\n",
      "do\n",
      "do\n",
      "dont\n",
      "do\n",
      "dont\n",
      "do\n",
      "do\n",
      "dont\n",
      "dont\n",
      "dont\n",
      "do\n",
      "do\n",
      "dont\n",
      "dont\n",
      "dont\n",
      "do\n",
      "do\n",
      "dont\n",
      "do\n"
     ]
    }
   ],
   "source": [
    "# Part 2\n",
    "\n",
    "q2ms = []\n",
    "dont_regex = r\"^don't\\(\\)$\"\n",
    "do_regex = r\"^do\\(\\)$\"\n",
    "\n",
    "\n",
    "\n",
    "for i,j in enumerate(data):\n",
    "    for x,y in enumerate(data[i]):\n",
    "        if y == \"d\":\n",
    "            if re.match(do_regex, j[x:x+4]):\n",
    "                instruction = \"do\"\n",
    "            if re.match(dont_regex, j[x:x+7]):\n",
    "                instruction = \"dont\"\n",
    "        if y == \"m\":\n",
    "            for z in range(8,13):\n",
    "                if re.match(regex, j[x:x+z]) and instruction != \"dont\":\n",
    "                    q2ms.append(data[i][x:x+z])\n",
    "                    \n",
    "            "
   ]
  },
  {
   "cell_type": "code",
   "execution_count": 123,
   "metadata": {},
   "outputs": [
    {
     "name": "stdout",
     "output_type": "stream",
     "text": [
      "89349241\n"
     ]
    }
   ],
   "source": [
    "q2ms\n",
    "\n",
    "sum = 0\n",
    "multipliers = [q2ms[i].strip(\"mul(\").strip(\")\").split(\",\") for i in range(len(q2ms))]\n",
    "\n",
    "for i in range(len(multipliers)):\n",
    "    sum += int(multipliers[i][0]) * int(multipliers[i][1])\n",
    "\n",
    "print(sum)"
   ]
  },
  {
   "cell_type": "code",
   "execution_count": 115,
   "metadata": {},
   "outputs": [
    {
     "data": {
      "text/plain": [
       "True"
      ]
     },
     "execution_count": 115,
     "metadata": {},
     "output_type": "execute_result"
    }
   ],
   "source": [
    "q2ms == ms"
   ]
  },
  {
   "cell_type": "code",
   "execution_count": null,
   "metadata": {},
   "outputs": [],
   "source": []
  },
  {
   "cell_type": "code",
   "execution_count": null,
   "metadata": {},
   "outputs": [],
   "source": []
  },
  {
   "cell_type": "code",
   "execution_count": null,
   "metadata": {},
   "outputs": [],
   "source": []
  },
  {
   "cell_type": "code",
   "execution_count": null,
   "metadata": {},
   "outputs": [],
   "source": []
  },
  {
   "cell_type": "code",
   "execution_count": null,
   "metadata": {},
   "outputs": [],
   "source": []
  },
  {
   "cell_type": "code",
   "execution_count": null,
   "metadata": {},
   "outputs": [],
   "source": []
  }
 ],
 "metadata": {
  "kernelspec": {
   "display_name": "Python 3",
   "language": "python",
   "name": "python3"
  },
  "language_info": {
   "codemirror_mode": {
    "name": "ipython",
    "version": 3
   },
   "file_extension": ".py",
   "mimetype": "text/x-python",
   "name": "python",
   "nbconvert_exporter": "python",
   "pygments_lexer": "ipython3",
   "version": "3.12.3"
  }
 },
 "nbformat": 4,
 "nbformat_minor": 2
}
