{
 "cells": [
  {
   "cell_type": "code",
   "execution_count": 2,
   "metadata": {},
   "outputs": [],
   "source": [
    "with open(\"day_1_data.txt\") as f:\n",
    "    data = f.read().splitlines()"
   ]
  },
  {
   "cell_type": "code",
   "execution_count": 3,
   "metadata": {},
   "outputs": [],
   "source": [
    "list_a = []\n",
    "list_b = []\n",
    "for i in data:\n",
    "    a = int(i.split()[0])\n",
    "    b = int(i.split()[1])\n",
    "    \n",
    "    list_a.append(a)\n",
    "    list_b.append(b)\n"
   ]
  },
  {
   "cell_type": "code",
   "execution_count": 4,
   "metadata": {},
   "outputs": [],
   "source": [
    "list_a.sort()\n",
    "list_b.sort()"
   ]
  },
  {
   "cell_type": "code",
   "execution_count": 5,
   "metadata": {},
   "outputs": [
    {
     "name": "stdout",
     "output_type": "stream",
     "text": [
      "2164381\n"
     ]
    }
   ],
   "source": [
    "#  Q1\n",
    "\n",
    "sum = 0\n",
    "for i in range(len(list_b)):\n",
    "    num = abs(list_a[i] - list_b[i])\n",
    "    sum +=num\n",
    "print(sum)"
   ]
  },
  {
   "cell_type": "code",
   "execution_count": 6,
   "metadata": {},
   "outputs": [
    {
     "name": "stdout",
     "output_type": "stream",
     "text": [
      "20719933\n"
     ]
    }
   ],
   "source": [
    "# Q2\n",
    "sum = 0\n",
    "for x in list_a:\n",
    "    multiplier = len([y for y in list_b if y==x])\n",
    "    num = x * multiplier\n",
    "    sum +=num\n",
    "\n",
    "print(sum)"
   ]
  },
  {
   "cell_type": "code",
   "execution_count": null,
   "metadata": {},
   "outputs": [],
   "source": []
  }
 ],
 "metadata": {
  "kernelspec": {
   "display_name": "Python 3",
   "language": "python",
   "name": "python3"
  },
  "language_info": {
   "codemirror_mode": {
    "name": "ipython",
    "version": 3
   },
   "file_extension": ".py",
   "mimetype": "text/x-python",
   "name": "python",
   "nbconvert_exporter": "python",
   "pygments_lexer": "ipython3",
   "version": "3.12.3"
  }
 },
 "nbformat": 4,
 "nbformat_minor": 2
}
